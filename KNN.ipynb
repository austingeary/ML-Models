{
 "cells": [
  {
   "cell_type": "markdown",
   "id": "6b538232",
   "metadata": {},
   "source": [
    "K Nearest Neighbors"
   ]
  },
  {
   "cell_type": "code",
   "execution_count": 16,
   "id": "13de2957",
   "metadata": {},
   "outputs": [],
   "source": [
    "from collections import Counter\n",
    "\n",
    "def get_distance(x, y):\n",
    "    assert len(x) == len(y)\n",
    "    cum_sum = 0\n",
    "    for i in range(len(x)):\n",
    "        cum_sum += (x[i] - y[i])**2\n",
    "    return cum_sum**0.5\n",
    "\n",
    "class KNN:\n",
    "    def __init__(self):\n",
    "        self.x = None\n",
    "        self.y = None\n",
    "        \n",
    "    def fit(self, x, y):\n",
    "        self.x = x\n",
    "        self.y = y\n",
    "        return None\n",
    "        \n",
    "    def predict(self, x, k, output='classify'):\n",
    "        assert output in ['classify','regress']\n",
    "        #Finding distances is O(MN) time complexity where M is the number of data points, \n",
    "        #and N is the number of features in each train_point\n",
    "        distance_label = [\n",
    "            (get_distance(x, train_point), train_label)\n",
    "            for train_point, train_label in zip(self.x, self.y)\n",
    "        ]\n",
    "        #Sorting the distances is O(Mlog(M)) time complexity\n",
    "        neighbors = sorted(distance_label)[:k]\n",
    "        if output == 'classify':\n",
    "            neighbor_labels = [label for dist, label in neighbors]\n",
    "            return Counter(neighbor_labels).most_common()[0][0]\n",
    "        elif output == 'regress':\n",
    "            return sum(label for _, label in neighbors) / k\n",
    "    "
   ]
  },
  {
   "cell_type": "code",
   "execution_count": 31,
   "id": "f0088e20",
   "metadata": {
    "scrolled": true
   },
   "outputs": [
    {
     "data": {
      "text/plain": [
       "<matplotlib.legend.Legend at 0x7f87210cfa60>"
      ]
     },
     "execution_count": 31,
     "metadata": {},
     "output_type": "execute_result"
    },
    {
     "data": {
      "image/png": "[encoded data removed]",
      "text/plain": [
       "<Figure size 432x288 with 1 Axes>"
      ]
     },
     "metadata": {
      "needs_background": "light"
     },
     "output_type": "display_data"
    }
   ],
   "source": [
    "from sklearn.datasets import make_blobs\n",
    "import matplotlib.pyplot as plt\n",
    "\n",
    "centers = [(-5, -5), (5, 5), (5, -5)]\n",
    "cluster_std = [0.5, 1, 0.5]\n",
    "\n",
    "X, y = make_blobs(n_samples=100, cluster_std=cluster_std, centers=centers, n_features=2, random_state=1)\n",
    "\n",
    "plt.scatter(X[y == 0, 0], X[y == 0, 1], color=\"red\", s=10, label=\"Cluster1\")\n",
    "plt.scatter(X[y == 1, 0], X[y == 1, 1], color=\"blue\", s=10, label=\"Cluster2\")\n",
    "plt.scatter(X[y == 2, 0], X[y == 2, 1], color=\"green\", s=10, label=\"Cluster3\")\n",
    "plt.legend()"
   ]
  },
  {
   "cell_type": "code",
   "execution_count": 32,
   "id": "bb0cc0b1",
   "metadata": {},
   "outputs": [
    {
     "name": "stdout",
     "output_type": "stream",
     "text": [
      "Test datapoint belong to cluster 2\n"
     ]
    }
   ],
   "source": [
    "knn = KNN()\n",
    "knn.fit(X, y)\n",
    "test = [0,0]\n",
    "\n",
    "pred = knn.predict(test, 3)\n",
    "print(f'Test datapoint belong to cluster {pred + 1}')"
   ]
  }
 ],
 "metadata": {
  "kernelspec": {
   "display_name": "Python 3 (ipykernel)",
   "language": "python",
   "name": "python3"
  },
  "language_info": {
   "codemirror_mode": {
    "name": "ipython",
    "version": 3
   },
   "file_extension": ".py",
   "mimetype": "text/x-python",
   "name": "python",
   "nbconvert_exporter": "python",
   "pygments_lexer": "ipython3",
   "version": "3.9.7"
  }
 },
 "nbformat": 4,
 "nbformat_minor": 5
}
