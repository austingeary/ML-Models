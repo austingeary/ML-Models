{
 "cells": [
  {
   "cell_type": "markdown",
   "id": "7027631f",
   "metadata": {},
   "source": [
    "#### Linear Regression"
   ]
  },
  {
   "cell_type": "code",
   "execution_count": 1,
   "id": "bca601d4",
   "metadata": {},
   "outputs": [],
   "source": [
    "import models_ag as models\n",
    "from sklearn.datasets import make_regression\n",
    "import matplotlib.pyplot as plt\n",
    "import numpy as np"
   ]
  },
  {
   "cell_type": "code",
   "execution_count": 2,
   "id": "8c59b1a8",
   "metadata": {
    "scrolled": true
   },
   "outputs": [
    {
     "data": {
      "text/plain": [
       "<matplotlib.collections.PathCollection at 0x7f84981dba30>"
      ]
     },
     "execution_count": 2,
     "metadata": {},
     "output_type": "execute_result"
    },
    {
     "data": {
      "image/png": "[encoded data removed]",
      "text/plain": [
       "<Figure size 432x288 with 1 Axes>"
      ]
     },
     "metadata": {
      "needs_background": "light"
     },
     "output_type": "display_data"
    }
   ],
   "source": [
    "X, y = make_regression(n_samples=100, n_features=1, bias=0,\n",
    "                       noise=50, random_state=1)\n",
    "\n",
    "plt.scatter(X, y, color=\"blue\", s=10, label=\"sample\")"
   ]
  },
  {
   "cell_type": "code",
   "execution_count": 3,
   "id": "51e3c2ee",
   "metadata": {
    "scrolled": false
   },
   "outputs": [],
   "source": [
    "clf = models.LinearRegression(iterations=100, learning_rate=0.01)\n",
    "clf.fit(X, y)"
   ]
  },
  {
   "cell_type": "code",
   "execution_count": 4,
   "id": "1949fb98",
   "metadata": {},
   "outputs": [
    {
     "name": "stdout",
     "output_type": "stream",
     "text": [
      "slope is 67.85518921202494 and intercept is 10.523864612449078\n"
     ]
    },
    {
     "data": {
      "text/plain": [
       "<matplotlib.collections.PathCollection at 0x7f8498309cd0>"
      ]
     },
     "execution_count": 4,
     "metadata": {},
     "output_type": "execute_result"
    },
    {
     "data": {
      "image/png": "[encoded data removed]",
      "text/plain": [
       "<Figure size 432x288 with 1 Axes>"
      ]
     },
     "metadata": {
      "needs_background": "light"
     },
     "output_type": "display_data"
    }
   ],
   "source": [
    "def abline(slope, intercept):\n",
    "    \"\"\"Plot a line from slope and intercept\"\"\"\n",
    "    x_vals = np.array([-3,-2,-1,0,1,2,3])\n",
    "    y_vals = intercept + slope * x_vals\n",
    "    plt.plot(x_vals, y_vals, '--')\n",
    "slope = clf.weights[0]\n",
    "intercept = clf.bias\n",
    "print(f'slope is {slope} and intercept is {intercept}')\n",
    "abline(clf.weights[0], clf.bias)\n",
    "plt.scatter(X, y, color=\"blue\", s=10, label=\"sample\")"
   ]
  },
  {
   "cell_type": "code",
   "execution_count": 5,
   "id": "3c7dedfe",
   "metadata": {},
   "outputs": [
    {
     "name": "stdout",
     "output_type": "stream",
     "text": [
      "-57.331324599575865\n",
      "10.523864612449078\n",
      "78.37905382447401\n",
      "146.23424303649895\n"
     ]
    }
   ],
   "source": [
    "print(clf.predict_point([-1]))\n",
    "print(clf.predict_point([0]))\n",
    "print(clf.predict_point([1]))\n",
    "print(clf.predict_point([2]))"
   ]
  }
 ],
 "metadata": {
  "kernelspec": {
   "display_name": "Python 3 (ipykernel)",
   "language": "python",
   "name": "python3"
  },
  "language_info": {
   "codemirror_mode": {
    "name": "ipython",
    "version": 3
   },
   "file_extension": ".py",
   "mimetype": "text/x-python",
   "name": "python",
   "nbconvert_exporter": "python",
   "pygments_lexer": "ipython3",
   "version": "3.9.7"
  }
 },
 "nbformat": 4,
 "nbformat_minor": 5
}
